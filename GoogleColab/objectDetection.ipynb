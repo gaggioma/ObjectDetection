{
  "nbformat": 4,
  "nbformat_minor": 0,
  "metadata": {
    "colab": {
      "name": "objectDetection.ipynb",
      "provenance": [],
      "collapsed_sections": [],
      "authorship_tag": "ABX9TyOV5vfhbAwDQrV/5uCxYXYN",
      "include_colab_link": true
    },
    "kernelspec": {
      "name": "python3",
      "display_name": "Python 3"
    },
    "accelerator": "GPU"
  },
  "cells": [
    {
      "cell_type": "markdown",
      "metadata": {
        "id": "view-in-github",
        "colab_type": "text"
      },
      "source": [
        "<a href=\"https://colab.research.google.com/github/gaggioma/ObjectDetection/blob/master/GoogleColab/objectDetection.ipynb\" target=\"_parent\"><img src=\"https://colab.research.google.com/assets/colab-badge.svg\" alt=\"Open In Colab\"/></a>"
      ]
    },
    {
      "cell_type": "markdown",
      "metadata": {
        "id": "DkYf_juvUD6U",
        "colab_type": "text"
      },
      "source": [
        "**To prevent Google Colab timout:**\n",
        "\n",
        "```\n",
        "function ClickConnect(){\n",
        "console.log(\"Working\"); \n",
        "document.querySelector(\"colab-toolbar-button#connect\").click() \n",
        "}\n",
        "\n",
        "setInterval(ClickConnect,60000)\n",
        "```\n",
        "\n"
      ]
    },
    {
      "cell_type": "code",
      "metadata": {
        "id": "ORed4AT3fINz",
        "colab_type": "code",
        "colab": {
          "base_uri": "https://localhost:8080/",
          "height": 34
        },
        "outputId": "77213f55-b794-49a1-8a90-8193dbb58bfa"
      },
      "source": [
        "from google.colab import drive\n",
        "drive.mount('/content/drive')"
      ],
      "execution_count": null,
      "outputs": [
        {
          "output_type": "stream",
          "text": [
            "Mounted at /content/drive\n"
          ],
          "name": "stdout"
        }
      ]
    },
    {
      "cell_type": "code",
      "metadata": {
        "id": "g7_p1jIoVtDc",
        "colab_type": "code",
        "colab": {}
      },
      "source": [
        "!nvcc --version"
      ],
      "execution_count": null,
      "outputs": []
    },
    {
      "cell_type": "code",
      "metadata": {
        "id": "P-fX0yoxg-Xh",
        "colab_type": "code",
        "colab": {}
      },
      "source": [
        "!unzip \"/content/drive/My Drive/sharing_storage_1/darknetv4.zip\""
      ],
      "execution_count": null,
      "outputs": []
    },
    {
      "cell_type": "code",
      "metadata": {
        "id": "l0w4-a5QtEyK",
        "colab_type": "code",
        "colab": {}
      },
      "source": [
        "!unzip \"/content/drive/My Drive/sharing_storage_1/dataset.zip\" -d /content/dataset\n",
        "!unzip \"/content/drive/My Drive/sharing_storage_1/cfg.zip\" -d /content/cfg"
      ],
      "execution_count": null,
      "outputs": []
    },
    {
      "cell_type": "code",
      "metadata": {
        "id": "-x9_FdzYTFrL",
        "colab_type": "code",
        "colab": {}
      },
      "source": [
        "! mv /content/dataset/* /content/darknetv4/data/\n",
        "! mv /content/cfg/* /content/darknetv4/cfg/"
      ],
      "execution_count": null,
      "outputs": []
    },
    {
      "cell_type": "code",
      "metadata": {
        "id": "NiWqA6fJ8Y9W",
        "colab_type": "code",
        "colab": {
          "base_uri": "https://localhost:8080/",
          "height": 34
        },
        "outputId": "f1c80722-0642-42ae-e9fa-a516a9e8b056"
      },
      "source": [
        "%cd /content/darknetv4"
      ],
      "execution_count": null,
      "outputs": [
        {
          "output_type": "stream",
          "text": [
            "/content/darknetv4\n"
          ],
          "name": "stdout"
        }
      ]
    },
    {
      "cell_type": "code",
      "metadata": {
        "id": "Tnfvd71on-Rq",
        "colab_type": "code",
        "colab": {}
      },
      "source": [
        "!make\n",
        "!chmod +x ./darknet"
      ],
      "execution_count": null,
      "outputs": []
    },
    {
      "cell_type": "code",
      "metadata": {
        "id": "vM49KEKsoj3Y",
        "colab_type": "code",
        "colab": {}
      },
      "source": [
        "!rm /content/darknetv4/backup -r\n",
        "!ln -s /content/drive/'My Drive'/sharing_storage_1/yolov4_weights/backup /content/darknetv4"
      ],
      "execution_count": null,
      "outputs": []
    },
    {
      "cell_type": "code",
      "metadata": {
        "id": "G5IcurmYvMsg",
        "colab_type": "code",
        "colab": {}
      },
      "source": [
        "!ls -l"
      ],
      "execution_count": null,
      "outputs": []
    },
    {
      "cell_type": "code",
      "metadata": {
        "id": "SyBUDBIeooUD",
        "colab_type": "code",
        "colab": {}
      },
      "source": [
        "!sudo apt install dos2unix"
      ],
      "execution_count": null,
      "outputs": []
    },
    {
      "cell_type": "code",
      "metadata": {
        "id": "r8LMasITopFY",
        "colab_type": "code",
        "colab": {
          "base_uri": "https://localhost:8080/",
          "height": 102
        },
        "outputId": "855ada26-fbc2-45cc-e5d6-8af421272e2b"
      },
      "source": [
        "!dos2unix ./data/train/train.txt\n",
        "!dos2unix ./data/validation/validation.txt\n",
        "!dos2unix ./cfg/obj-var-out.data\n",
        "!dos2unix ./cfg/obj.names\n",
        "!dos2unix ./cfg/yolov4-custom-var-out.cfg"
      ],
      "execution_count": null,
      "outputs": [
        {
          "output_type": "stream",
          "text": [
            "dos2unix: converting file ./data/train/train.txt to Unix format...\n",
            "dos2unix: converting file ./data/validation/validation.txt to Unix format...\n",
            "dos2unix: converting file ./cfg/obj-var-out.data to Unix format...\n",
            "dos2unix: converting file ./cfg/obj.names to Unix format...\n",
            "dos2unix: converting file ./cfg/yolov4-custom-var-out.cfg to Unix format...\n"
          ],
          "name": "stdout"
        }
      ]
    },
    {
      "cell_type": "markdown",
      "metadata": {
        "id": "Qx2UVwC58f_g",
        "colab_type": "text"
      },
      "source": [
        "Train yolov4"
      ]
    },
    {
      "cell_type": "code",
      "metadata": {
        "id": "_AWEjzhIo06F",
        "colab_type": "code",
        "colab": {}
      },
      "source": [
        "%cd /content/darknetv4/\n",
        "!./darknet detector train cfg/obj-var-out.data cfg/yolov4-custom-var-out.cfg convolutionModel/yolov4.conv.137 -dont_show"
      ],
      "execution_count": null,
      "outputs": []
    },
    {
      "cell_type": "markdown",
      "metadata": {
        "id": "GLOiEbSX8neJ",
        "colab_type": "text"
      },
      "source": [
        "Continue training if you stop before ending"
      ]
    },
    {
      "cell_type": "code",
      "metadata": {
        "id": "TS8T89js8r6z",
        "colab_type": "code",
        "colab": {}
      },
      "source": [
        "%cd /content/darknetv4/\n",
        "!./darknet detector train cfg/obj-var-out.data cfg/yolov4-custom-var-out.cfg /content/drive/'My Drive'/sharing_storage_1/yolov4_weights/backup/yolov4-custom-var-out_2000.weights -dont_show"
      ],
      "execution_count": null,
      "outputs": []
    },
    {
      "cell_type": "markdown",
      "metadata": {
        "id": "2EeVwODWby8J",
        "colab_type": "text"
      },
      "source": [
        "Link testFolder (Google Drive)"
      ]
    },
    {
      "cell_type": "code",
      "metadata": {
        "id": "8JYOn24iyI64",
        "colab_type": "code",
        "colab": {
          "base_uri": "https://localhost:8080/",
          "height": 34
        },
        "outputId": "f745ba18-683b-4b8a-901e-6a2c642d62ec"
      },
      "source": [
        "!rm -r /content/darknetv4/data/testFolder \n",
        "!ln -s /content/drive/'My Drive'/sharing_storage_1/testFolder /content/darknetv4/data"
      ],
      "execution_count": null,
      "outputs": [
        {
          "output_type": "stream",
          "text": [
            "rm: cannot remove '/content/darknetv4/data/testFolder': No such file or directory\n"
          ],
          "name": "stdout"
        }
      ]
    },
    {
      "cell_type": "markdown",
      "metadata": {
        "id": "Cr-cr3b_zLgD",
        "colab_type": "text"
      },
      "source": [
        "Test image"
      ]
    },
    {
      "cell_type": "code",
      "metadata": {
        "id": "do42pR-C_Fw2",
        "colab_type": "code",
        "colab": {}
      },
      "source": [
        "!./darknet detector test cfg/obj-var-out.data cfg/yolov4-custom-var-out.cfg backup/yolov4-custom-var-out_last.weights /content/darknetv4/data/testFolder/sudoku.jpg -dont_show"
      ],
      "execution_count": null,
      "outputs": []
    },
    {
      "cell_type": "markdown",
      "metadata": {
        "id": "17Zk96Snc3Lh",
        "colab_type": "text"
      },
      "source": [
        "Test video"
      ]
    },
    {
      "cell_type": "code",
      "metadata": {
        "id": "-U4TE-3kcrqE",
        "colab_type": "code",
        "colab": {}
      },
      "source": [
        "!./darknet detector demo cfg/obj-var-out.data cfg/yolov4-obj.cfg backup/yolov4-obj_final.weights /content/darknetv4/data/testFolder/watermelon.mp4 -out_filename video_res.mp4 -dont_show"
      ],
      "execution_count": null,
      "outputs": []
    }
  ]
}